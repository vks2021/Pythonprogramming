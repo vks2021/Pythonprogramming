{
 "cells": [
  {
   "cell_type": "code",
   "execution_count": 1,
   "metadata": {
    "scrolled": true
   },
   "outputs": [
    {
     "name": "stdout",
     "output_type": "stream",
     "text": [
      "[50, 40, 30, 20, 10]\n"
     ]
    }
   ],
   "source": [
    "#1-\tTo reverse list using slicing \n",
    "list1= [10, 20, 30, 40, 50]\n",
    "list1 = list1[::-1]\n",
    "print(list1)"
   ]
  },
  {
   "cell_type": "code",
   "execution_count": 2,
   "metadata": {
    "scrolled": true
   },
   "outputs": [
    {
     "name": "stdout",
     "output_type": "stream",
     "text": [
      "[50, 40, 30, 20, 10]\n"
     ]
    }
   ],
   "source": [
    "#Reverse list using reverse method\n",
    "#Oneliner code\n",
    "list1= [10, 20, 30, 40, 50]\n",
    "list1.reverse()\n",
    "print(list1)"
   ]
  },
  {
   "cell_type": "code",
   "execution_count": 3,
   "metadata": {
    "scrolled": true
   },
   "outputs": [
    {
     "name": "stdout",
     "output_type": "stream",
     "text": [
      "50 20\n"
     ]
    }
   ],
   "source": [
    "#wapping the value of two variables\n",
    "#Commonly we use a third variable to perform swap operation. For example,\n",
    "num1 = 20\n",
    "num2 =50\n",
    "temp = num1\n",
    "num1 = num2\n",
    "num2 = temp\n",
    "print(num1, num2)"
   ]
  },
  {
   "cell_type": "code",
   "execution_count": 4,
   "metadata": {
    "scrolled": true
   },
   "outputs": [
    {
     "name": "stdout",
     "output_type": "stream",
     "text": [
      "50 20\n"
     ]
    }
   ],
   "source": [
    "#wapping the value of two variables\n",
    "num1 = 20\n",
    "num2 =50\n",
    "#Oneliner code\n",
    "num1, num2 = num2, num1\n",
    "print(num1, num2)"
   ]
  },
  {
   "cell_type": "code",
   "execution_count": 5,
   "metadata": {
    "scrolled": true
   },
   "outputs": [
    {
     "name": "stdout",
     "output_type": "stream",
     "text": [
      "50 40 30 20 10\n"
     ]
    }
   ],
   "source": [
    "#wapping the value of five variables\n",
    "num1 = 10\n",
    "num2 = 20\n",
    "num3 = 30\n",
    "num4 = 40\n",
    "num5 = 50\n",
    "#Oneliner code\n",
    "num1, num2, nume3, num4, num5  = num5, num4,num3, num2, num1\n",
    "\n",
    "print(num1, num2, nume3, num4, num5)"
   ]
  },
  {
   "cell_type": "code",
   "execution_count": 6,
   "metadata": {},
   "outputs": [
    {
     "name": "stdout",
     "output_type": "stream",
     "text": [
      "[10, 20, 30, 40, 50]\n"
     ]
    }
   ],
   "source": [
    "#to convert list string items into int\n",
    "#Map method\n",
    "#Oneliner code\n",
    "list1 = list(map(int, [\"10\", \"20\", \"30\", \"40\", \"50\"]))\n",
    "print(list1)"
   ]
  },
  {
   "cell_type": "code",
   "execution_count": 7,
   "metadata": {},
   "outputs": [
    {
     "name": "stdout",
     "output_type": "stream",
     "text": [
      "[10, 30, 50]\n"
     ]
    }
   ],
   "source": [
    "#to filter common items in the two lists\n",
    "list1 = [10, 20, 30, 40, 50]\n",
    "list2 = [10, 12, 22, 30, 50]\n",
    "#Oneliner code\n",
    "common_elements = list(filter(lambda item: item in list1, list2))\n",
    "print(common_elements)"
   ]
  },
  {
   "cell_type": "code",
   "execution_count": 8,
   "metadata": {},
   "outputs": [
    {
     "name": "stdout",
     "output_type": "stream",
     "text": [
      "[12, 22]\n"
     ]
    }
   ],
   "source": [
    "#to filter uncommon or different items in the two lists\n",
    "list1 = [10, 20, 30, 40, 50]\n",
    "list2 = [10, 12, 22, 30, 50]\n",
    "#Oneliner code\n",
    "common_elements = list(filter(lambda item: item not in list1, list2))\n",
    "print(common_elements)"
   ]
  },
  {
   "cell_type": "code",
   "execution_count": 9,
   "metadata": {},
   "outputs": [
    {
     "name": "stdout",
     "output_type": "stream",
     "text": [
      "[0, 1, 2, 3, 4, 5, 6, 7, 8, 9]\n"
     ]
    }
   ],
   "source": [
    "#list comprehension \n",
    "list1 = []\n",
    "for i in range(10):\n",
    "    list1.append(i)\n",
    "print(list1)\n"
   ]
  },
  {
   "cell_type": "code",
   "execution_count": 10,
   "metadata": {},
   "outputs": [
    {
     "name": "stdout",
     "output_type": "stream",
     "text": [
      "[0, 1, 2, 3, 4, 5, 6, 7, 8, 9]\n"
     ]
    }
   ],
   "source": [
    "#List comprehension\n",
    "#Oneliner code\n",
    "list1 = [i for i in range(10)]\n",
    "print(list1)"
   ]
  },
  {
   "cell_type": "code",
   "execution_count": 11,
   "metadata": {},
   "outputs": [
    {
     "name": "stdout",
     "output_type": "stream",
     "text": [
      "[20, 30, 16, 40, 50]\n"
     ]
    }
   ],
   "source": [
    "#to filter items in lists that meet specified criteria\n",
    "list1 = [10, 20, 30, 5, 16, 2, 40, 12, 6,50]\n",
    "#Oneliner code\n",
    "list1 = [i for i in list1 if i > 15]\n",
    "print(list1)"
   ]
  },
  {
   "cell_type": "code",
   "execution_count": 12,
   "metadata": {},
   "outputs": [
    {
     "name": "stdout",
     "output_type": "stream",
     "text": [
      "Virendra Kumar Shrivastava\n"
     ]
    }
   ],
   "source": [
    "\n",
    "def name(first, middle, last):\n",
    "    return f\"{first} {middle} {last}\" \n",
    "\n",
    "myName = name(\"Virendra\", \"Kumar\",\"Shrivastava\") \n",
    "print(myName)"
   ]
  },
  {
   "cell_type": "code",
   "execution_count": 13,
   "metadata": {},
   "outputs": [
    {
     "name": "stdout",
     "output_type": "stream",
     "text": [
      "Virendra Kumar Shrivastava\n"
     ]
    }
   ],
   "source": [
    "#Lambda function / anonymous function\n",
    "#Oneliner code\n",
    "myName = lambda first, middle, last: f\"{first} {middlle} {last}\" \n",
    "myName = name(\"Virendra\", \"Kumar\",\"Shrivastava\") \n",
    "print(myName)\n"
   ]
  },
  {
   "cell_type": "code",
   "execution_count": 14,
   "metadata": {},
   "outputs": [
    {
     "name": "stdout",
     "output_type": "stream",
     "text": [
      "20 130 8\n"
     ]
    }
   ],
   "source": [
    "#Lambda function / anonymous function\n",
    "#Oneliner code\n",
    "highOrderFunction = lambda n, func: n + func(n)\n",
    "res1 = highOrderFunction(4, lambda n: n*n) \n",
    "res2 = highOrderFunction(5, lambda n : n*n*n)\n",
    "res3 = highOrderFunction(2, lambda n : n*3)\n",
    "\n",
    "print(res1, res2, res3)"
   ]
  },
  {
   "cell_type": "code",
   "execution_count": 15,
   "metadata": {},
   "outputs": [
    {
     "name": "stdout",
     "output_type": "stream",
     "text": [
      "HiHiHiHiHiHiHiHiHiHi"
     ]
    }
   ],
   "source": [
    "for i in range(10):\n",
    "    print(\"Hi\", end = \"\") \n"
   ]
  },
  {
   "cell_type": "code",
   "execution_count": 16,
   "metadata": {},
   "outputs": [
    {
     "name": "stdout",
     "output_type": "stream",
     "text": [
      "HiHiHiHiHiHiHiHiHiHi\n"
     ]
    }
   ],
   "source": [
    "print(\"Hi\"*10) "
   ]
  },
  {
   "cell_type": "code",
   "execution_count": 17,
   "metadata": {},
   "outputs": [
    {
     "name": "stdout",
     "output_type": "stream",
     "text": [
      "[34, 10, 12, 20, 30]\n"
     ]
    }
   ],
   "source": [
    "# To remove repeated items from a list\n",
    "numbers = [10, 20, 20, 30, 30, 30, 12, 34, 12]\n",
    "#Oneliner code\n",
    "print(list(set(numbers)))"
   ]
  },
  {
   "cell_type": "code",
   "execution_count": 18,
   "metadata": {},
   "outputs": [
    {
     "name": "stdout",
     "output_type": "stream",
     "text": [
      "[('Mrs', 'Amita'), ('Mr', 'Jay')]\n"
     ]
    }
   ],
   "source": [
    "#zip function\n",
    "#Oneliner code\n",
    "names = list(zip(('Mrs', 'Mr'), ['Amita', 'Jay']))\n",
    "print(names)"
   ]
  }
 ],
 "metadata": {
  "kernelspec": {
   "display_name": "Python 3",
   "language": "python",
   "name": "python3"
  },
  "language_info": {
   "codemirror_mode": {
    "name": "ipython",
    "version": 3
   },
   "file_extension": ".py",
   "mimetype": "text/x-python",
   "name": "python",
   "nbconvert_exporter": "python",
   "pygments_lexer": "ipython3",
   "version": "3.8.5"
  }
 },
 "nbformat": 4,
 "nbformat_minor": 4
}
