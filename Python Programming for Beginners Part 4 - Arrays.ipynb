{
 "cells": [
  {
   "cell_type": "markdown",
   "metadata": {},
   "source": [
    "# Python Programming for Beginners Part 4 - Python Arrays"
   ]
  },
  {
   "cell_type": "code",
   "execution_count": 1,
   "metadata": {},
   "outputs": [
    {
     "name": "stdout",
     "output_type": "stream",
     "text": [
      "Integer array elements are :\n",
      "1\n",
      "2\n",
      "3\n",
      "4\n",
      "5\n",
      "6\n"
     ]
    }
   ],
   "source": [
    "#to create an array of integers\n",
    "import array  #import array module\n",
    "intArray = array.array('i',[1,2,3,4,5,6])\n",
    "print('Integer array elements are :')\n",
    "for i in intArray:\n",
    "    print(i)"
   ]
  },
  {
   "cell_type": "code",
   "execution_count": 2,
   "metadata": {},
   "outputs": [
    {
     "name": "stdout",
     "output_type": "stream",
     "text": [
      "Floating point array elements are :\n",
      "1.40\n",
      "2.60\n",
      "3.40\n",
      "4.50\n",
      "52.30\n",
      "6.90\n"
     ]
    }
   ],
   "source": [
    "#to create an array of floating points\n",
    "import array as arr #import array module using alias \n",
    "floatArray = arr.array('f',[1.4,2.6,3.4,4.5,52.3,6.9])\n",
    "print('Floating point array elements are :')\n",
    "for i in floatArray:\n",
    "    print(format(i,\"0.2f\"))"
   ]
  },
  {
   "cell_type": "code",
   "execution_count": 3,
   "metadata": {},
   "outputs": [
    {
     "name": "stdout",
     "output_type": "stream",
     "text": [
      "Character array elements are :\n",
      "h\n",
      "e\n",
      "l\n",
      "l\n",
      "o\n"
     ]
    }
   ],
   "source": [
    "#to create an array of characters\n",
    "from array import *  #import all classes, objects and functions of array module\n",
    "charArray = array('u',['h','e','l','l','o'])\n",
    "print('Character array elements are :')\n",
    "for ch in charArray:\n",
    "    print(ch)"
   ]
  },
  {
   "cell_type": "code",
   "execution_count": 4,
   "metadata": {},
   "outputs": [
    {
     "name": "stdout",
     "output_type": "stream",
     "text": [
      "h\n"
     ]
    }
   ],
   "source": [
    "#to create an array of characters\n",
    "from array import *  #import array module\n",
    "charArray = array('u',['h','e','l','l','o'])\n",
    "#to retrieve first element\n",
    "print(charArray[0])"
   ]
  },
  {
   "cell_type": "code",
   "execution_count": 5,
   "metadata": {},
   "outputs": [
    {
     "name": "stdout",
     "output_type": "stream",
     "text": [
      "Last element in the array:\n",
      "o\n"
     ]
    }
   ],
   "source": [
    "#to retrieve the last element \n",
    "charArray = array('u',['h','e','l','l','o'])\n",
    "print(\"Last element in the array:\")\n",
    "print(charArray[-1])"
   ]
  },
  {
   "cell_type": "code",
   "execution_count": 6,
   "metadata": {},
   "outputs": [
    {
     "name": "stdout",
     "output_type": "stream",
     "text": [
      "Integer array elements of intArray1 are :\n",
      "2\n",
      "4\n",
      "6\n",
      "8\n",
      "10\n",
      "12\n"
     ]
    }
   ],
   "source": [
    "#to create an array from another array\n",
    "import array as arr #import array module\n",
    "intArray = arr.array('i',[1,2,3,4,5,6])\n",
    "#use same type code and multiply each element of intArray by 2 \n",
    "intArray1 = arr.array(intArray.typecode, (ar*2 for ar in intArray))\n",
    "print('Integer array elements of intArray1 are :')\n",
    "for i in intArray1:\n",
    "    print(i)"
   ]
  },
  {
   "cell_type": "code",
   "execution_count": 7,
   "metadata": {},
   "outputs": [
    {
     "name": "stdout",
     "output_type": "stream",
     "text": [
      "Array elements are :\n",
      "h\n",
      "e\n"
     ]
    }
   ],
   "source": [
    "#to retrieve first and second element \n",
    "charArray = array('u',['h','e','l','l','o'])\n",
    "char2 = charArray[0:2]\n",
    "print(\"Array elements are :\")\n",
    "for i in char2:\n",
    "    print(i)"
   ]
  },
  {
   "cell_type": "code",
   "execution_count": 8,
   "metadata": {},
   "outputs": [
    {
     "name": "stdout",
     "output_type": "stream",
     "text": [
      "Array elements are :\n",
      "l\n",
      "o\n"
     ]
    }
   ],
   "source": [
    "#to retrieve the last two elements \n",
    "charArray = array('u',['h','e','l','l','o'])\n",
    "char2 = charArray[-2:]\n",
    "print(\"Array elements are :\")\n",
    "for i in char2:\n",
    "    print(i)"
   ]
  },
  {
   "cell_type": "code",
   "execution_count": 9,
   "metadata": {},
   "outputs": [
    {
     "name": "stdout",
     "output_type": "stream",
     "text": [
      "Array elements are :\n",
      "h\n",
      "e\n",
      "l\n"
     ]
    }
   ],
   "source": [
    "charArray = array('u',['h','e','l','l','o'])\n",
    "char2 = charArray[0: 3]\n",
    "print(\"Array elements are :\")\n",
    "for i in char2:\n",
    "    print(i)"
   ]
  },
  {
   "cell_type": "code",
   "execution_count": 10,
   "metadata": {},
   "outputs": [
    {
     "name": "stdout",
     "output_type": "stream",
     "text": [
      "Array elements are :\n",
      "h\n",
      "e\n",
      "l\n",
      "l\n",
      "o\n"
     ]
    }
   ],
   "source": [
    "#default start, stop and step slicing demo\n",
    "charArray = array('u',['h','e','l','l','o'])\n",
    "char2 = charArray[: : ]\n",
    "print(\"Array elements are :\")\n",
    "for i in char2:\n",
    "    print(i)"
   ]
  },
  {
   "cell_type": "code",
   "execution_count": 11,
   "metadata": {},
   "outputs": [
    {
     "name": "stdout",
     "output_type": "stream",
     "text": [
      "Array elements are :\n",
      "h\n",
      "l\n",
      "o\n",
      "e\n",
      "l\n"
     ]
    }
   ],
   "source": [
    "#to retrieve elements with step value \n",
    "charArray = array('u',['h','e','l','l','o','h','e','l','l','o'])\n",
    "char2 = charArray[: :2 ]\n",
    "print(\"Array elements are :\")\n",
    "for i in char2:\n",
    "    print(i)"
   ]
  },
  {
   "cell_type": "code",
   "execution_count": 12,
   "metadata": {},
   "outputs": [
    {
     "name": "stdout",
     "output_type": "stream",
     "text": [
      "Array elements are :\n",
      "h\n",
      "l\n",
      "o\n",
      "e\n"
     ]
    }
   ],
   "source": [
    "#to retrieve elements with start, stop and step value \n",
    "charArray = array('u',['h','e','l','l','o','h','e','l','l','o'])\n",
    "char2 = charArray[0: 7 : 2]\n",
    "print(\"Array elements are :\")\n",
    "for i in char2:\n",
    "    print(i)"
   ]
  },
  {
   "cell_type": "code",
   "execution_count": 13,
   "metadata": {},
   "outputs": [
    {
     "name": "stdout",
     "output_type": "stream",
     "text": [
      "Array elements are :\n",
      "h\n",
      "e\n",
      "l\n",
      "l\n",
      "o\n",
      "Array elements after append operation:\n",
      "h\n",
      "e\n",
      "l\n",
      "l\n",
      "o\n",
      "!\n"
     ]
    }
   ],
   "source": [
    "#Demo of append method of array\n",
    "arr = array('u',['h','e','l','l','o'])\n",
    "print(\"Array elements are :\")\n",
    "for i in arr:\n",
    "    print(i)\n",
    "arr.append('!')\n",
    "print(\"Array elements after append operation:\")\n",
    "for i in arr:\n",
    "    print(i)"
   ]
  },
  {
   "cell_type": "code",
   "execution_count": 14,
   "metadata": {},
   "outputs": [
    {
     "name": "stdout",
     "output_type": "stream",
     "text": [
      "Array elements are :\n",
      "h\n",
      "e\n",
      "l\n",
      "l\n",
      "o\n",
      "Number of occurnces of 'l' in the array: 2\n"
     ]
    }
   ],
   "source": [
    "#Demo of count method of array\n",
    "arr = array('u',['h','e','l','l','o'])\n",
    "print(\"Array elements are :\")\n",
    "for i in arr:\n",
    "    print(i)\n",
    "\n",
    "print(\"Number of occurnces of 'l' in the array:\",arr.count('l'))"
   ]
  },
  {
   "cell_type": "code",
   "execution_count": 15,
   "metadata": {},
   "outputs": [
    {
     "name": "stdout",
     "output_type": "stream",
     "text": [
      "Array elements are :\n",
      "h\n",
      "e\n",
      "l\n",
      "l\n",
      "o\n",
      "Number of occurnces of 'l' in the array: 2\n"
     ]
    }
   ],
   "source": [
    "#Demo of index method of array\n",
    "arr = array('u',['h','e','l','l','o'])\n",
    "print(\"Array elements are :\")\n",
    "for i in arr:\n",
    "    print(i)\n",
    "\n",
    "print(\"Number of occurnces of 'l' in the array:\",arr.index('l'))"
   ]
  },
  {
   "cell_type": "code",
   "execution_count": 16,
   "metadata": {},
   "outputs": [
    {
     "name": "stdout",
     "output_type": "stream",
     "text": [
      "Array elements are :\n",
      "h\n",
      "l\n",
      "l\n",
      "o\n",
      "Array elements after insert element :\n",
      "h\n",
      "e\n",
      "l\n",
      "l\n",
      "o\n"
     ]
    }
   ],
   "source": [
    "#Demo of insert method of array\n",
    "arr = array('u',['h','l','l','o'])\n",
    "print(\"Array elements are :\")\n",
    "for i in arr:\n",
    "    print(i)\n",
    "arr1 = arr.insert(1,'e')\n",
    "\n",
    "print(\"Array elements after insert element :\")\n",
    "for i in arr:\n",
    "    print(i)"
   ]
  },
  {
   "cell_type": "code",
   "execution_count": 17,
   "metadata": {},
   "outputs": [
    {
     "name": "stdout",
     "output_type": "stream",
     "text": [
      "Array elements are :\n",
      "h\n",
      "e\n",
      "l\n",
      "l\n",
      "o\n",
      "Array elements after pop():\n",
      "h\n",
      "e\n",
      "l\n",
      "l\n"
     ]
    }
   ],
   "source": [
    "#Demo of pop method of array\n",
    "arr = array('u',['h','e','l','l','o'])\n",
    "print(\"Array elements are :\")\n",
    "for i in arr:\n",
    "    print(i)\n",
    "arr.pop()\n",
    "print(\"Array elements after pop():\")\n",
    "for i in arr:\n",
    "    print(i)"
   ]
  },
  {
   "cell_type": "code",
   "execution_count": 18,
   "metadata": {},
   "outputs": [
    {
     "data": {
      "text/plain": [
       "10"
      ]
     },
     "execution_count": 18,
     "metadata": {},
     "output_type": "execute_result"
    }
   ],
   "source": [
    "#Demo: How to pop(x) elements off of an array?\n",
    "numArray = array('i', [1,3,5,7,9,10,15,10])\n",
    "numArray.pop(5)"
   ]
  },
  {
   "cell_type": "code",
   "execution_count": 19,
   "metadata": {},
   "outputs": [
    {
     "name": "stdout",
     "output_type": "stream",
     "text": [
      "Array elements are :\n",
      "h\n",
      "e\n",
      "l\n",
      "l\n",
      "o\n",
      "Array elements after remove :\n",
      "e\n",
      "l\n",
      "l\n",
      "o\n"
     ]
    }
   ],
   "source": [
    "#Demo of remove(x) method of array\n",
    "arr = array('u',['h','e','l','l','o'])\n",
    "print(\"Array elements are :\")\n",
    "for i in arr:\n",
    "    print(i)\n",
    "arr.remove('h')\n",
    "print(\"Array elements after remove :\")\n",
    "for i in arr:\n",
    "    print(i)"
   ]
  },
  {
   "cell_type": "code",
   "execution_count": 20,
   "metadata": {},
   "outputs": [
    {
     "name": "stdout",
     "output_type": "stream",
     "text": [
      "Array elements are :\n",
      "h\n",
      "e\n",
      "l\n",
      "l\n",
      "o\n",
      "Array elements after reverse :\n",
      "o\n",
      "l\n",
      "l\n",
      "e\n",
      "h\n"
     ]
    }
   ],
   "source": [
    "#Demo of reverse(x) method of array\n",
    "arr = array('u',['h','e','l','l','o'])\n",
    "print(\"Array elements are :\")\n",
    "for i in arr:\n",
    "    print(i)\n",
    "arr.reverse()\n",
    "print(\"Array elements after reverse :\")\n",
    "for i in arr:\n",
    "    print(i)"
   ]
  },
  {
   "cell_type": "code",
   "execution_count": 21,
   "metadata": {},
   "outputs": [
    {
     "name": "stdout",
     "output_type": "stream",
     "text": [
      "Array elements are :\n",
      "1\n",
      "2\n",
      "3\n",
      "4\n",
      "5\n",
      "Array elements type:  i\n"
     ]
    }
   ],
   "source": [
    "#Demo of typecode of array\n",
    "arr = array('i',[1,2,3,4,5])\n",
    "print(\"Array elements are :\")\n",
    "for i in arr:\n",
    "    print(i)\n",
    "\n",
    "print(\"Array elements type: \", arr.typecode)"
   ]
  },
  {
   "cell_type": "code",
   "execution_count": 22,
   "metadata": {},
   "outputs": [
    {
     "name": "stdout",
     "output_type": "stream",
     "text": [
      "Array elements are :\n",
      "1\n",
      "2\n",
      "3\n",
      "4\n",
      "5\n",
      "Array itemsize:  4\n"
     ]
    }
   ],
   "source": [
    "#Demo of itemsize of array\n",
    "arr = array('i',[1,2,3,4,5])\n",
    "print(\"Array elements are :\")\n",
    "for i in arr:\n",
    "    print(i)\n",
    "\n",
    "print(\"Array itemsize: \", arr.itemsize)"
   ]
  }
 ],
 "metadata": {
  "kernelspec": {
   "display_name": "Python 3",
   "language": "python",
   "name": "python3"
  },
  "language_info": {
   "codemirror_mode": {
    "name": "ipython",
    "version": 3
   },
   "file_extension": ".py",
   "mimetype": "text/x-python",
   "name": "python",
   "nbconvert_exporter": "python",
   "pygments_lexer": "ipython3",
   "version": "3.8.5"
  }
 },
 "nbformat": 4,
 "nbformat_minor": 4
}
