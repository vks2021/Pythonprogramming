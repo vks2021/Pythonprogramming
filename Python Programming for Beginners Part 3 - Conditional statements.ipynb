{
 "cells": [
  {
   "cell_type": "markdown",
   "metadata": {},
   "source": [
    "# Python Programming for Beginners Part 3\n",
    "# Conditional Statements"
   ]
  },
  {
   "cell_type": "code",
   "execution_count": 2,
   "metadata": {},
   "outputs": [
    {
     "name": "stdout",
     "output_type": "stream",
     "text": [
      "Enter a number :20\n",
      "20  is even\n",
      "Well try!!\n"
     ]
    }
   ],
   "source": [
    "#if statement\n",
    "# Program to accept a number from key the keybaord and test whether it is even or odd\n",
    "number = int(input(\"Enter a number :\"))\n",
    "if number % 2 ==0 :\n",
    "    print(number, \" is even\")\n",
    "print(\"Well try!!\")"
   ]
  },
  {
   "cell_type": "code",
   "execution_count": 1,
   "metadata": {},
   "outputs": [
    {
     "name": "stdout",
     "output_type": "stream",
     "text": [
      "True\n",
      "True\n",
      "True\n"
     ]
    }
   ],
   "source": [
    "#if statement\n",
    "# mathematical expression\n",
    "x, y = 7, 5\n",
    "if x + y:\n",
    "    print('True')\n",
    "# Prints True\n",
    "\n",
    "#any non-zero value\n",
    "if -3:\n",
    "    print('True')\n",
    "# Prints True\n",
    "\n",
    "# nonempty container\n",
    "L = ['red','green']\n",
    "if L:\n",
    "    print('True')\n",
    "# Prints True"
   ]
  },
  {
   "cell_type": "code",
   "execution_count": 3,
   "metadata": {},
   "outputs": [
    {
     "name": "stdout",
     "output_type": "stream",
     "text": [
      "Enter a number :15\n",
      "15  is odd\n",
      "Well try!!\n"
     ]
    }
   ],
   "source": [
    "#if-else statement\n",
    "#Program to accept a number from key the keybaord and test whether it is even or odd\n",
    "number = int(input(\"Enter a number :\"))\n",
    "if number % 2 ==0 :\n",
    "    print(number, \" is even\")\n",
    "else:\n",
    "    print(number, \" is odd\")\n",
    "print(\"Well try!!\")"
   ]
  },
  {
   "cell_type": "code",
   "execution_count": 7,
   "metadata": {},
   "outputs": [
    {
     "name": "stdout",
     "output_type": "stream",
     "text": [
      "Enter a digit :9\n",
      "Nine\n",
      "Well try!!\n"
     ]
    }
   ],
   "source": [
    "#if-elif-else statement\n",
    "#Program to accept a number digit from key the keybaord and display in words\n",
    "number = int(input(\"Enter a digit :\"))\n",
    "if number == 0 :\n",
    "    print(\"Zero\")\n",
    "elif number == 1:\n",
    "    print(\"One\")\n",
    "elif number == 2:\n",
    "    print(\"Two\")\n",
    "elif number == 3:\n",
    "    print(\"Three\")\n",
    "elif number == 4:\n",
    "    print(\"Four\")\n",
    "elif number == 5:\n",
    "    print(\"Five\")\n",
    "elif number == 6:\n",
    "    print(\"Six\")\n",
    "elif number == 7:\n",
    "    print(\"Seven\")\n",
    "elif number == 8:\n",
    "    print(\"Eight\")\n",
    "elif number ==9:\n",
    "    print(\"Nine\")\n",
    "else:\n",
    "    print(\"Please enter number between 0 and 9\")\n",
    "#else paer is not mandatory\n",
    "print(\"Well try!!\")"
   ]
  }
 ],
 "metadata": {
  "kernelspec": {
   "display_name": "Python 3",
   "language": "python",
   "name": "python3"
  },
  "language_info": {
   "codemirror_mode": {
    "name": "ipython",
    "version": 3
   },
   "file_extension": ".py",
   "mimetype": "text/x-python",
   "name": "python",
   "nbconvert_exporter": "python",
   "pygments_lexer": "ipython3",
   "version": "3.8.5"
  }
 },
 "nbformat": 4,
 "nbformat_minor": 4
}
