{
 "cells": [
  {
   "cell_type": "markdown",
   "metadata": {},
   "source": [
    "# NumPy Arrays"
   ]
  },
  {
   "cell_type": "code",
   "execution_count": 1,
   "metadata": {},
   "outputs": [
    {
     "name": "stdout",
     "output_type": "stream",
     "text": [
      "1.19.2\n"
     ]
    }
   ],
   "source": [
    "#to import numpy array \n",
    "import numpy as np\n",
    "#to check version of numpy package \n",
    "print(np.__version__)"
   ]
  },
  {
   "cell_type": "code",
   "execution_count": 2,
   "metadata": {},
   "outputs": [
    {
     "name": "stdout",
     "output_type": "stream",
     "text": [
      "[10 20 30 40 50]\n",
      "int32\n"
     ]
    }
   ],
   "source": [
    "#Creating array using array function\n",
    "from numpy import *\n",
    "array1 = array([10, 20, 30, 40, 50], dtype = int)\n",
    "print(array1)\n",
    "print(array1.dtype)"
   ]
  },
  {
   "cell_type": "code",
   "execution_count": 3,
   "metadata": {},
   "outputs": [
    {
     "name": "stdout",
     "output_type": "stream",
     "text": [
      "int32\n"
     ]
    }
   ],
   "source": [
    "#to check dataype\n",
    "int_array = np.array([10, 20, 30, 40, 50])\n",
    "print(int_array.dtype)"
   ]
  },
  {
   "cell_type": "code",
   "execution_count": 4,
   "metadata": {},
   "outputs": [
    {
     "name": "stdout",
     "output_type": "stream",
     "text": [
      "[10 20 30 40 50]\n",
      "int32\n"
     ]
    }
   ],
   "source": [
    "#Creating array using array function\n",
    "\n",
    "array1 = np.array([10, 20, 30, 40, 50])\n",
    "print(array1)\n",
    "print(array1.dtype)"
   ]
  },
  {
   "cell_type": "code",
   "execution_count": 5,
   "metadata": {},
   "outputs": [
    {
     "name": "stdout",
     "output_type": "stream",
     "text": [
      "[10 20 30 40 50]\n",
      "int32\n"
     ]
    }
   ],
   "source": [
    "#Creating array using array function\n",
    "\n",
    "array1 = np.array([10, 20, 30, 40.45, 50], int)\n",
    "print(array1)\n",
    "print(array1.dtype)"
   ]
  },
  {
   "cell_type": "code",
   "execution_count": 6,
   "metadata": {},
   "outputs": [
    {
     "name": "stdout",
     "output_type": "stream",
     "text": [
      "[[10 20 30]\n",
      " [40 50 60]\n",
      " [70 80 90]]\n",
      "int32\n"
     ]
    }
   ],
   "source": [
    "#Creating multidimesnional array (2-D) using array function\n",
    "\n",
    "array1 = np.array([[10, 20, 30], [40, 50, 60], [70, 80, 90]] )\n",
    "print(array1)\n",
    "print(array1.dtype)"
   ]
  },
  {
   "cell_type": "code",
   "execution_count": 7,
   "metadata": {},
   "outputs": [
    {
     "name": "stdout",
     "output_type": "stream",
     "text": [
      "[[[ 5 10 15]\n",
      "  [20 25 30]]\n",
      "\n",
      " [[35 40 45]\n",
      "  [50 55 60]]]\n",
      "int32\n"
     ]
    }
   ],
   "source": [
    "#Creating multidimesnional array (3-D) using array function\n",
    "\n",
    "array1 = np.array([ [[5, 10, 15], [20, 25, 30]], [[35, 40, 45], [50, 55, 60]] ] )\n",
    "print(array1)\n",
    "print(array1.dtype)"
   ]
  },
  {
   "cell_type": "code",
   "execution_count": 8,
   "metadata": {},
   "outputs": [
    {
     "name": "stdout",
     "output_type": "stream",
     "text": [
      "[10.   20.   30.   40.45 50.  ]\n",
      "float64\n"
     ]
    }
   ],
   "source": [
    "#Creating array using array function\n",
    "\n",
    "array1 = np.array([10, 20, 30, 40.45, 50])\n",
    "print(array1)\n",
    "print(array1.dtype)"
   ]
  },
  {
   "cell_type": "code",
   "execution_count": 9,
   "metadata": {},
   "outputs": [
    {
     "name": "stdout",
     "output_type": "stream",
     "text": [
      "[10.   20.   30.   40.45 50.  ]\n",
      "float64\n"
     ]
    }
   ],
   "source": [
    "#Creating array using array function\n",
    "\n",
    "array1 = np.array([10, 20, 30, 40.45, 50], float)\n",
    "print(array1)\n",
    "print(array1.dtype)"
   ]
  },
  {
   "cell_type": "code",
   "execution_count": 10,
   "metadata": {},
   "outputs": [
    {
     "name": "stdout",
     "output_type": "stream",
     "text": [
      "['Ram' 'Shyam' 'Ajay' 'Karan' 'Kunal']\n",
      "<U5\n"
     ]
    }
   ],
   "source": [
    "#Creating array using array function\n",
    "\n",
    "array1 = np.array(['Ram', 'Shyam', 'Ajay', 'Karan', 'Kunal'], dtype =str)\n",
    "print(array1)\n",
    "print(array1.dtype)"
   ]
  },
  {
   "cell_type": "code",
   "execution_count": 11,
   "metadata": {},
   "outputs": [
    {
     "name": "stdout",
     "output_type": "stream",
     "text": [
      "['Ram' 'Shyam' 'Ajay' 'Karan' 'Kunal']\n",
      "<U5\n"
     ]
    }
   ],
   "source": [
    "#Creating array using array function\n",
    "\n",
    "array1 = np.array(['Ram', 'Shyam', 'Ajay', 'Karan', 'Kunal'], str)\n",
    "print(array1)\n",
    "print(array1.dtype)"
   ]
  },
  {
   "cell_type": "markdown",
   "metadata": {},
   "source": [
    "## creating array using linespace funtion"
   ]
  },
  {
   "cell_type": "code",
   "execution_count": 12,
   "metadata": {},
   "outputs": [
    {
     "name": "stdout",
     "output_type": "stream",
     "text": [
      "[ 1.   13.25 25.5  37.75 50.  ]\n",
      "float64\n"
     ]
    }
   ],
   "source": [
    "#Creating array using linspace() function\n",
    "\n",
    "array1 = np.linspace(1, 50, 5)\n",
    "print(array1)\n",
    "print(array1.dtype)"
   ]
  },
  {
   "cell_type": "markdown",
   "metadata": {},
   "source": [
    "## creating array using logspace() funtion"
   ]
  },
  {
   "cell_type": "code",
   "execution_count": 13,
   "metadata": {},
   "outputs": [
    {
     "name": "stdout",
     "output_type": "stream",
     "text": [
      "[1.e+01 1.e+02 1.e+03 1.e+04 1.e+05]\n",
      "float64\n"
     ]
    }
   ],
   "source": [
    "#Creating array using logspace() function\n",
    "\n",
    "array1 = np.logspace(1, 5, 5)\n",
    "print(array1)\n",
    "print(array1.dtype)"
   ]
  },
  {
   "cell_type": "markdown",
   "metadata": {},
   "source": [
    "## creating array using arange() funtion"
   ]
  },
  {
   "cell_type": "code",
   "execution_count": 14,
   "metadata": {},
   "outputs": [
    {
     "name": "stdout",
     "output_type": "stream",
     "text": [
      "[ 0  5 10 15 20 25 30 35 40 45]\n",
      "int32\n"
     ]
    }
   ],
   "source": [
    "#Creating array using arange() function\n",
    "\n",
    "array1 = np.arange(0, 50, 5)\n",
    "print(array1)\n",
    "print(array1.dtype)"
   ]
  },
  {
   "cell_type": "markdown",
   "metadata": {},
   "source": [
    "## creating array using zeros() funtion"
   ]
  },
  {
   "cell_type": "code",
   "execution_count": 15,
   "metadata": {},
   "outputs": [
    {
     "name": "stdout",
     "output_type": "stream",
     "text": [
      "[0 0 0 0 0]\n",
      "int32\n"
     ]
    }
   ],
   "source": [
    "#Creating array using zeros() function\n",
    "\n",
    "array1 = np.zeros(5, int)\n",
    "print(array1)\n",
    "print(array1.dtype)"
   ]
  },
  {
   "cell_type": "code",
   "execution_count": 16,
   "metadata": {},
   "outputs": [
    {
     "name": "stdout",
     "output_type": "stream",
     "text": [
      "[0. 0. 0. 0. 0.]\n",
      "float64\n"
     ]
    }
   ],
   "source": [
    "#Creating array using zeros() function\n",
    "\n",
    "array1 = np.zeros(5, float)\n",
    "print(array1)\n",
    "print(array1.dtype)"
   ]
  },
  {
   "cell_type": "code",
   "execution_count": 17,
   "metadata": {},
   "outputs": [
    {
     "name": "stdout",
     "output_type": "stream",
     "text": [
      "[[0 0 0 0]\n",
      " [0 0 0 0]\n",
      " [0 0 0 0]]\n",
      "int32\n"
     ]
    }
   ],
   "source": [
    "#Creating array using zeros() function\n",
    "#Two dimension array\n",
    "array1 = np.zeros((3,4), int)\n",
    "print(array1)\n",
    "print(array1.dtype)"
   ]
  },
  {
   "cell_type": "markdown",
   "metadata": {},
   "source": [
    "## creating array using ones() funtion"
   ]
  },
  {
   "cell_type": "code",
   "execution_count": 18,
   "metadata": {},
   "outputs": [
    {
     "name": "stdout",
     "output_type": "stream",
     "text": [
      "[1 1 1 1 1]\n",
      "int32\n"
     ]
    }
   ],
   "source": [
    "#Creating array using ones() function\n",
    "#one dimension array\n",
    "array1 = np.ones(5, int)\n",
    "print(array1)\n",
    "print(array1.dtype)"
   ]
  },
  {
   "cell_type": "code",
   "execution_count": 19,
   "metadata": {},
   "outputs": [
    {
     "name": "stdout",
     "output_type": "stream",
     "text": [
      "[1. 1. 1. 1. 1.]\n",
      "float64\n"
     ]
    }
   ],
   "source": [
    "#Creating array using ones() function\n",
    "#one dimension array\n",
    "array1 = np.ones(5, float)\n",
    "print(array1)\n",
    "print(array1.dtype)"
   ]
  },
  {
   "cell_type": "code",
   "execution_count": 20,
   "metadata": {},
   "outputs": [
    {
     "name": "stdout",
     "output_type": "stream",
     "text": [
      "[1 1 1 1 1]\n",
      "int32\n"
     ]
    }
   ],
   "source": [
    "#Creating array using ones() function\n",
    "#two dimension array\n",
    "array1 = np.ones(5, dtype=int)\n",
    "print(array1)\n",
    "print(array1.dtype)"
   ]
  },
  {
   "cell_type": "code",
   "execution_count": 21,
   "metadata": {},
   "outputs": [
    {
     "name": "stdout",
     "output_type": "stream",
     "text": [
      "[[1 0 0 0]\n",
      " [0 1 0 0]\n",
      " [0 0 1 0]\n",
      " [0 0 0 1]]\n",
      "int32\n"
     ]
    }
   ],
   "source": [
    "#Creating array using eye() function\n",
    "#two dimension array\n",
    "array1 = np.eye(4, dtype =int)\n",
    "print(array1)\n",
    "print(array1.dtype)"
   ]
  },
  {
   "cell_type": "code",
   "execution_count": 22,
   "metadata": {},
   "outputs": [
    {
     "name": "stdout",
     "output_type": "stream",
     "text": [
      "[[0 0 0 0]\n",
      " [0 0 0 0]\n",
      " [0 0 0 0]\n",
      " [0 0 0 0]\n",
      " [0 0 0 0]]\n"
     ]
    },
    {
     "data": {
      "text/plain": [
       "array([[0, 0, 0, 0, 0],\n",
       "       [0, 0, 0, 0, 0],\n",
       "       [0, 0, 0, 0, 0],\n",
       "       [0, 0, 0, 0, 0]])"
      ]
     },
     "execution_count": 22,
     "metadata": {},
     "output_type": "execute_result"
    }
   ],
   "source": [
    "#Creating array using zeros() function\n",
    "#Two dimension array\n",
    "#reshape()\n",
    "array1 = np.zeros((5,4), int)\n",
    "print(array1)\n",
    "array1.reshape(4,5)"
   ]
  },
  {
   "cell_type": "markdown",
   "metadata": {},
   "source": [
    "# Accesing NumPy arrays"
   ]
  },
  {
   "cell_type": "code",
   "execution_count": 23,
   "metadata": {},
   "outputs": [
    {
     "name": "stdout",
     "output_type": "stream",
     "text": [
      "10\n"
     ]
    }
   ],
   "source": [
    "#Creating array using array function\n",
    "#accessing numpy array\n",
    "import numpy as np\n",
    "array1 = np.array([10, 20, 30, 40.45, 50], dtype = int)\n",
    "#access first element or index 0)\n",
    "print(array1[0])"
   ]
  },
  {
   "cell_type": "code",
   "execution_count": 24,
   "metadata": {},
   "outputs": [
    {
     "name": "stdout",
     "output_type": "stream",
     "text": [
      "[10 20]\n"
     ]
    }
   ],
   "source": [
    "#Creating array using array function\n",
    "#accessing numpy array\n",
    "import numpy as np\n",
    "array1 = np.array([10, 20, 30, 40.45, 50], dtype = int)\n",
    "#slicing first 2 elements \n",
    "print(array1[0:2])"
   ]
  },
  {
   "cell_type": "code",
   "execution_count": 25,
   "metadata": {},
   "outputs": [
    {
     "name": "stdout",
     "output_type": "stream",
     "text": [
      "[10 30 50]\n"
     ]
    }
   ],
   "source": [
    "# To access every second element from the slice \n",
    "array1 = np.array([10, 20, 30, 40.45, 50], dtype = int)\n",
    "print(array1[: : 2]) \n"
   ]
  },
  {
   "cell_type": "code",
   "execution_count": 26,
   "metadata": {},
   "outputs": [
    {
     "name": "stdout",
     "output_type": "stream",
     "text": [
      "20\n"
     ]
    }
   ],
   "source": [
    "# To access 2nd element on 1st dimensional array \n",
    "array1 = np.array([ [10, 20, 30, 40], [45, 50, 55, 60]])\n",
    "print(array1[0, 1]) "
   ]
  },
  {
   "cell_type": "code",
   "execution_count": 27,
   "metadata": {},
   "outputs": [
    {
     "name": "stdout",
     "output_type": "stream",
     "text": [
      "[50 55]\n"
     ]
    }
   ],
   "source": [
    "# To access elements from 2-dimensional array \n",
    "array1 = np.array([ [10, 20, 30, 40], [45, 50, 55, 60]])\n",
    "print(array1[1, 1:3]) "
   ]
  },
  {
   "cell_type": "code",
   "execution_count": 28,
   "metadata": {},
   "outputs": [
    {
     "name": "stdout",
     "output_type": "stream",
     "text": [
      "110\n"
     ]
    }
   ],
   "source": [
    "# 3rd element inside the 1st 1-d array in the 2nd 2-d array \n",
    "array1 = np.array([[[10, 20, 30, 40], [50, 60, 70, 80]], [[90, 100, 110, 120], [130, 140, 150, 160]]]) \n",
    "print(array1[1, 0, 2]) "
   ]
  },
  {
   "cell_type": "code",
   "execution_count": 29,
   "metadata": {},
   "outputs": [
    {
     "name": "stdout",
     "output_type": "stream",
     "text": [
      "[110]\n",
      "120\n"
     ]
    }
   ],
   "source": [
    "#To slice a 3-D Array with an interval of 2. \n",
    "array1 = np.array([[[10, 20, 30, 40], [50, 60, 70, 80]], [[90, 100, 110, 120], [130, 140, 150, 160]]]) \n",
    "print(array1[1][0][2::3])\n",
    "print(array1[1][0][3])\n"
   ]
  },
  {
   "cell_type": "code",
   "execution_count": 30,
   "metadata": {},
   "outputs": [
    {
     "name": "stdout",
     "output_type": "stream",
     "text": [
      "(5,)\n"
     ]
    }
   ],
   "source": [
    "#Creating array using array function\n",
    "#shape of array\n",
    "import numpy as np\n",
    "array1 = np.array([10, 20, 30, 40.45, 50], dtype = int)\n",
    "print(array1.shape)"
   ]
  },
  {
   "cell_type": "code",
   "execution_count": 31,
   "metadata": {},
   "outputs": [
    {
     "name": "stdout",
     "output_type": "stream",
     "text": [
      "(2, 4)\n"
     ]
    }
   ],
   "source": [
    "# To shape of an array \n",
    "array1 = np.array([ [10, 20, 30, 40], [45, 50, 55, 60]])\n",
    "print(array1.shape) "
   ]
  },
  {
   "cell_type": "code",
   "execution_count": 32,
   "metadata": {},
   "outputs": [
    {
     "name": "stdout",
     "output_type": "stream",
     "text": [
      "[[10 20 30]\n",
      " [40 50 60]]\n"
     ]
    }
   ],
   "source": [
    "#reshape of 1-d array to 2-d array\n",
    "import numpy as np\n",
    "array1 = np.array([10, 20, 30, 40.45, 50, 60], dtype = int)\n",
    "\n",
    "print(array1.reshape(2,3))"
   ]
  }
 ],
 "metadata": {
  "kernelspec": {
   "display_name": "Python 3",
   "language": "python",
   "name": "python3"
  },
  "language_info": {
   "codemirror_mode": {
    "name": "ipython",
    "version": 3
   },
   "file_extension": ".py",
   "mimetype": "text/x-python",
   "name": "python",
   "nbconvert_exporter": "python",
   "pygments_lexer": "ipython3",
   "version": "3.8.5"
  }
 },
 "nbformat": 4,
 "nbformat_minor": 4
}
