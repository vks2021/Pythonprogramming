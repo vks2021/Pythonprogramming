{
 "cells": [
  {
   "cell_type": "markdown",
   "metadata": {},
   "source": [
    "# Python for Beginners Part 7 - Function (Tutorial)"
   ]
  },
  {
   "cell_type": "code",
   "execution_count": 1,
   "metadata": {},
   "outputs": [
    {
     "name": "stdout",
     "output_type": "stream",
     "text": [
      "Enter a number :3\n",
      "Cube of the number 27\n",
      "Enter a number :4\n",
      "Cube of the number 64\n",
      "Enter a number :5\n",
      "Cube of the number 125\n"
     ]
    }
   ],
   "source": [
    "#define function to perform cube of a number\n",
    "def cube(number):\n",
    "  return number * number * number\n",
    "\n",
    "num = int(input(\"Enter a number :\"))\n",
    "print(\"Cube of the number\", cube(num))\n",
    "\n",
    "num = int(input(\"Enter a number :\"))\n",
    "print(\"Cube of the number\", cube(num))\n",
    "\n",
    "num = int(input(\"Enter a number :\"))\n",
    "print(\"Cube of the number\", cube(num))\n"
   ]
  },
  {
   "cell_type": "code",
   "execution_count": 2,
   "metadata": {},
   "outputs": [
    {
     "name": "stdout",
     "output_type": "stream",
     "text": [
      "1. Enter student information\n",
      "2. Enter Quiz Grades\n",
      "3. Enter Mid Term Grades\n",
      "4. Enter Final Grades\n",
      "5. Quit\n",
      "Enter your choice: 5\n"
     ]
    }
   ],
   "source": [
    "def menu():\n",
    "  print(\"1. Enter student information\")\n",
    "  print(\"2. Enter Quiz Grades\")\n",
    "  print(\"3. Enter Mid Term Grades\")\n",
    "  print(\"4. Enter Final Grades\")\n",
    "  print(\"5. Quit\")\n",
    "\n",
    "menu()\n",
    "choice = int(input(\"Enter your choice: \"))"
   ]
  },
  {
   "cell_type": "code",
   "execution_count": 3,
   "metadata": {},
   "outputs": [
    {
     "name": "stdout",
     "output_type": "stream",
     "text": [
      "Hello, Virendra Shrivastava\n"
     ]
    }
   ],
   "source": [
    " #Function returns multiple values\n",
    "def greet(firstName, lastName):\n",
    "    return firstName, lastName\n",
    "\n",
    "fName, lName = greet(\"Virendra\",\"Shrivastava\")\n",
    "\n",
    "print(\"Hello,\", fName,lName)"
   ]
  },
  {
   "cell_type": "code",
   "execution_count": 4,
   "metadata": {},
   "outputs": [
    {
     "name": "stdout",
     "output_type": "stream",
     "text": [
      "\n",
      "\n",
      "Recursion Example\n",
      "Enter values between 1 to 10: 6\n",
      "Factorial of 6 is :  720\n"
     ]
    }
   ],
   "source": [
    "#print factorial using recursive function\n",
    "\n",
    "def factorial(n):\n",
    "  if(n == 0):\n",
    "    fact = 1\n",
    "    return fact\n",
    "  else:\n",
    "    fact = n * factorial(n - 1)\n",
    "  return fact\n",
    "\n",
    "print(\"\\n\\nRecursion Example\")\n",
    "num = int(input(\"Enter values between 1 to 10: \"))\n",
    "print(\"Factorial of\", num, \"is : \", factorial(num))"
   ]
  },
  {
   "cell_type": "code",
   "execution_count": 5,
   "metadata": {},
   "outputs": [
    {
     "name": "stdout",
     "output_type": "stream",
     "text": [
      "Demo of pass statement\n"
     ]
    }
   ],
   "source": [
    "#Define a function without statement \n",
    "#use pass statement to avoid syntax error\n",
    "def nullFunction():\n",
    "  pass\n",
    "\n",
    "print(\"Demo of pass statement\")\n",
    "nullFunction()"
   ]
  },
  {
   "cell_type": "code",
   "execution_count": 6,
   "metadata": {},
   "outputs": [
    {
     "name": "stdout",
     "output_type": "stream",
     "text": [
      "10\n",
      "20\n",
      "30\n"
     ]
    }
   ],
   "source": [
    "#Demo of lambda function\n",
    "def func(n):\n",
    "  return lambda x : x * n\n",
    "\n",
    "\n",
    "singleValue = func(1)\n",
    "doubleValue = func(2)\n",
    "tripleValue = func(3)\n",
    "\n",
    "print(singleValue(10))\n",
    "print(doubleValue(10))\n",
    "print(tripleValue(10))"
   ]
  }
 ],
 "metadata": {
  "kernelspec": {
   "display_name": "Python 3",
   "language": "python",
   "name": "python3"
  },
  "language_info": {
   "codemirror_mode": {
    "name": "ipython",
    "version": 3
   },
   "file_extension": ".py",
   "mimetype": "text/x-python",
   "name": "python",
   "nbconvert_exporter": "python",
   "pygments_lexer": "ipython3",
   "version": "3.8.5"
  }
 },
 "nbformat": 4,
 "nbformat_minor": 4
}
