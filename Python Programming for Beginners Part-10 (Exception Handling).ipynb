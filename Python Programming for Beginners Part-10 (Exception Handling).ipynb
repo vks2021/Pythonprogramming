{
 "cells": [
  {
   "cell_type": "markdown",
   "id": "106eb6bf",
   "metadata": {},
   "source": [
    "# Python Programming for Beginners Part-10 (Exception Handling)"
   ]
  },
  {
   "cell_type": "code",
   "execution_count": 1,
   "id": "e87d9bfe",
   "metadata": {},
   "outputs": [
    {
     "name": "stdout",
     "output_type": "stream",
     "text": [
      "enter value of number1: 43\n",
      "enter value number2: 0\n",
      "Error: division by zero\n"
     ]
    }
   ],
   "source": [
    "# TO demonstrate exception handling using try - except block \n",
    "#read two numbers and perform division operatoion\n",
    "try:\n",
    "    num1 = int(input(\"enter value of number1: \"))\n",
    "    num2 = int(input(\"enter value number2: \"))\n",
    "    result = num1/num2\n",
    "    print(result)\n",
    "    \n",
    "except Exception as e:\n",
    "    print(\"Error:\", e)  "
   ]
  },
  {
   "cell_type": "code",
   "execution_count": 2,
   "id": "1aaaa676",
   "metadata": {},
   "outputs": [
    {
     "name": "stdout",
     "output_type": "stream",
     "text": [
      "enter value of number1: 45\n",
      "enter value number2: 0\n",
      "Number Cannot be Divided by Zero\n",
      "Thanks!\n"
     ]
    }
   ],
   "source": [
    "# TO demonstrate exception handling using try - except - finally block \n",
    "\n",
    "try:\n",
    "    num1 = int(input(\"enter value of number1: \"))\n",
    "    num2 = int(input(\"enter value number2: \"))\n",
    "    result = num1/num2\n",
    "    print(result)\n",
    "except ZeroDivisionError:\n",
    "    print(\"Number Cannot be Divided by Zero\")\n",
    "\n",
    "finally:\n",
    "    print(\"Thanks!\")\n",
    "    "
   ]
  },
  {
   "cell_type": "code",
   "execution_count": 3,
   "id": "cab44b9d",
   "metadata": {},
   "outputs": [
    {
     "name": "stdout",
     "output_type": "stream",
     "text": [
      "enter value of number1: 34g\n",
      "Not valid number\n"
     ]
    }
   ],
   "source": [
    "# TO demonstrate exception handling of multiple except blocks \n",
    "\n",
    "try:\n",
    "    num1 = int(input(\"enter value of number1: \"))\n",
    "    num2 = int(input(\"enter value number2: \"))\n",
    "    result = num1/num2\n",
    "    print(result)\n",
    "except ValueError:\n",
    "    print(\"Not valid number\")\n",
    "except ZeroDivisionError:\n",
    "    print(\"Number Cannot be Divided by Zero\")\n",
    "except:\n",
    "    print(\"This is the Generic Error\")"
   ]
  },
  {
   "cell_type": "code",
   "execution_count": 6,
   "id": "db409b90",
   "metadata": {},
   "outputs": [
    {
     "name": "stdout",
     "output_type": "stream",
     "text": [
      "enter value of a number: 50\n",
      "Number(50) is not under the specified Range\n"
     ]
    }
   ],
   "source": [
    "# TO demonstrate custom exceptions  \n",
    "try:\n",
    "    num = int(input(\"enter value of a number: \"))\n",
    "    if num > 1 and num <100 :\n",
    "        raise Exception()\n",
    "    if num > 100 and num < 1000:\n",
    "        num = num * num\n",
    "        print(f\"The Output for the execution is: {num}\")\n",
    "except:\n",
    "    print(f\"Number({num}) is not under the specified Range\")"
   ]
  },
  {
   "cell_type": "code",
   "execution_count": 4,
   "id": "0b381e5b",
   "metadata": {},
   "outputs": [
    {
     "name": "stdout",
     "output_type": "stream",
     "text": [
      "enter value of number1: 12\n",
      "enter value number2: 8*\n",
      "Error: invalid literal for int() with base 10: '8*'\n"
     ]
    }
   ],
   "source": [
    "# TO demonstrate exception handling with try-except - else blocks \n",
    "try:\n",
    "    num = int(input(\"enter value of number1: \"))\n",
    "    num2 = int(input(\"enter value number2: \"))\n",
    "    result = num1/num2\n",
    "    print(result)   \n",
    "except Exception as e:\n",
    "    print(\"Error:\", e)  \n",
    "except ValueError:\n",
    "    print(\"Not valid number\")\n",
    "except ZeroDivisionError:\n",
    "    print(\"Number Cannot be Divided by Zero\")\n",
    "except:\n",
    "    print(\"This is the Generic Error\")\n",
    "\n",
    "else:\n",
    "    print(\"No Error in the Program\")"
   ]
  }
 ],
 "metadata": {
  "kernelspec": {
   "display_name": "Python 3",
   "language": "python",
   "name": "python3"
  },
  "language_info": {
   "codemirror_mode": {
    "name": "ipython",
    "version": 3
   },
   "file_extension": ".py",
   "mimetype": "text/x-python",
   "name": "python",
   "nbconvert_exporter": "python",
   "pygments_lexer": "ipython3",
   "version": "3.8.8"
  }
 },
 "nbformat": 4,
 "nbformat_minor": 5
}
